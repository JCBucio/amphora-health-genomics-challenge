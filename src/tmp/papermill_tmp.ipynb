{
 "cells": [
  {
   "cell_type": "markdown",
   "id": "a961f9ee",
   "metadata": {
    "papermill": {
     "duration": 0.004518,
     "end_time": "2022-05-20T16:48:55.583155",
     "exception": false,
     "start_time": "2022-05-20T16:48:55.578637",
     "status": "completed"
    },
    "tags": []
   },
   "source": [
    "# Task 5. Evaluate the model with a 10-fold cross-validation\n",
    "\n",
    "Evaluate the accuracy of prediction using the area under the curve (AUC) for each model using 10-fold cross-validation."
   ]
  },
  {
   "cell_type": "code",
   "execution_count": 1,
   "id": "e224a437",
   "metadata": {
    "execution": {
     "iopub.execute_input": "2022-05-20T16:48:55.590121Z",
     "iopub.status.busy": "2022-05-20T16:48:55.589495Z",
     "iopub.status.idle": "2022-05-20T16:48:56.572572Z",
     "shell.execute_reply": "2022-05-20T16:48:56.572067Z"
    },
    "papermill": {
     "duration": 0.98772,
     "end_time": "2022-05-20T16:48:56.573882",
     "exception": false,
     "start_time": "2022-05-20T16:48:55.586162",
     "status": "completed"
    },
    "tags": []
   },
   "outputs": [],
   "source": [
    "import joblib\n",
    "import pandas as pd\n",
    "import matplotlib.pyplot as plt\n",
    "\n",
    "from utils import *\n",
    "\n",
    "from sklearn.model_selection import cross_val_score\n",
    "from sklearn.tree import DecisionTreeClassifier"
   ]
  },
  {
   "cell_type": "markdown",
   "id": "3091edbd",
   "metadata": {
    "papermill": {
     "duration": 0.001724,
     "end_time": "2022-05-20T16:48:56.577887",
     "exception": false,
     "start_time": "2022-05-20T16:48:56.576163",
     "status": "completed"
    },
    "tags": []
   },
   "source": [
    "We import and load the files that we need to evaluate the model. We do the split of the data for the evaluation of the models, here is important to note that the splitting of the data is random, so the results will be slightly different each time we run the code."
   ]
  },
  {
   "cell_type": "code",
   "execution_count": 2,
   "id": "8f725d39",
   "metadata": {
    "execution": {
     "iopub.execute_input": "2022-05-20T16:48:56.582375Z",
     "iopub.status.busy": "2022-05-20T16:48:56.582082Z",
     "iopub.status.idle": "2022-05-20T16:49:06.268250Z",
     "shell.execute_reply": "2022-05-20T16:49:06.267667Z"
    },
    "papermill": {
     "duration": 9.690134,
     "end_time": "2022-05-20T16:49:06.269706",
     "exception": false,
     "start_time": "2022-05-20T16:48:56.579572",
     "status": "completed"
    },
    "tags": []
   },
   "outputs": [],
   "source": [
    "# Load the dataframes for the train and test data\n",
    "afr_df = pd.read_csv(parameters['afr_df'], sep=',')\n",
    "eur_df = pd.read_csv(parameters['eur_df'], sep=',')\n",
    "sas_eas_df = pd.read_csv(parameters['sas_eas_df'], sep=',')"
   ]
  },
  {
   "cell_type": "code",
   "execution_count": 3,
   "id": "503a1b37",
   "metadata": {
    "execution": {
     "iopub.execute_input": "2022-05-20T16:49:06.275786Z",
     "iopub.status.busy": "2022-05-20T16:49:06.275553Z",
     "iopub.status.idle": "2022-05-20T16:49:06.459640Z",
     "shell.execute_reply": "2022-05-20T16:49:06.458903Z"
    },
    "papermill": {
     "duration": 0.188842,
     "end_time": "2022-05-20T16:49:06.461252",
     "exception": false,
     "start_time": "2022-05-20T16:49:06.272410",
     "status": "completed"
    },
    "tags": []
   },
   "outputs": [
    {
     "name": "stdout",
     "output_type": "stream",
     "text": [
      "\n",
      "    X_afr_train: (2003, 10028), X_afr_test: (501, 10028)\n",
      "\n",
      "    y_afr_train: (2003,), y_afr_test: (501,)\n",
      "\n"
     ]
    }
   ],
   "source": [
    "X_afr_train, X_afr_test, y_afr_train, y_afr_test = split_dataframe(afr_df, 'superpopulation_code_AFR')\n",
    "print(f\"\"\"\n",
    "    X_afr_train: {X_afr_train.shape}, X_afr_test: {X_afr_test.shape}\\n\n",
    "    y_afr_train: {y_afr_train.shape}, y_afr_test: {y_afr_test.shape}\n",
    "\"\"\")"
   ]
  },
  {
   "cell_type": "code",
   "execution_count": 4,
   "id": "5abf72d6",
   "metadata": {
    "execution": {
     "iopub.execute_input": "2022-05-20T16:49:06.468782Z",
     "iopub.status.busy": "2022-05-20T16:49:06.468232Z",
     "iopub.status.idle": "2022-05-20T16:49:06.692261Z",
     "shell.execute_reply": "2022-05-20T16:49:06.691654Z"
    },
    "papermill": {
     "duration": 0.229037,
     "end_time": "2022-05-20T16:49:06.693678",
     "exception": false,
     "start_time": "2022-05-20T16:49:06.464641",
     "status": "completed"
    },
    "tags": []
   },
   "outputs": [
    {
     "name": "stdout",
     "output_type": "stream",
     "text": [
      "\n",
      "    X_eur_train: (2003, 10028), X_eur_test: (501, 10028)\n",
      "\n",
      "    y_eur_train: (2003,), y_eur_test: (501,)\n",
      "\n"
     ]
    }
   ],
   "source": [
    "X_eur_train, X_eur_test, y_eur_train, y_eur_test = split_dataframe(eur_df, 'superpopulation_code_EUR')\n",
    "print(f\"\"\"\n",
    "    X_eur_train: {X_eur_train.shape}, X_eur_test: {X_eur_test.shape}\\n\n",
    "    y_eur_train: {y_eur_train.shape}, y_eur_test: {y_eur_test.shape}\n",
    "\"\"\")"
   ]
  },
  {
   "cell_type": "code",
   "execution_count": 5,
   "id": "0ed00694",
   "metadata": {
    "execution": {
     "iopub.execute_input": "2022-05-20T16:49:06.700467Z",
     "iopub.status.busy": "2022-05-20T16:49:06.700045Z",
     "iopub.status.idle": "2022-05-20T16:49:06.987146Z",
     "shell.execute_reply": "2022-05-20T16:49:06.986517Z"
    },
    "papermill": {
     "duration": 0.291809,
     "end_time": "2022-05-20T16:49:06.988500",
     "exception": false,
     "start_time": "2022-05-20T16:49:06.696691",
     "status": "completed"
    },
    "tags": []
   },
   "outputs": [
    {
     "name": "stdout",
     "output_type": "stream",
     "text": [
      "\n",
      "    X_sas_eas_train: (2003, 10028), X_sas_eas_test: (501, 10028)\n",
      "\n",
      "    y_sas_eas_train: (2003,), y_sas_eas_test: (501,)\n",
      "\n"
     ]
    }
   ],
   "source": [
    "X_sas_eas_train, X_sas_eas_test, y_sas_eas_train, y_sas_eas_test = split_dataframe(sas_eas_df, 'superpopulation_code_SAS_EAS')\n",
    "print(f\"\"\"\n",
    "    X_sas_eas_train: {X_sas_eas_train.shape}, X_sas_eas_test: {X_sas_eas_test.shape}\\n\n",
    "    y_sas_eas_train: {y_sas_eas_train.shape}, y_sas_eas_test: {y_sas_eas_test.shape}\n",
    "\"\"\")"
   ]
  },
  {
   "cell_type": "markdown",
   "id": "478fcd6c",
   "metadata": {
    "papermill": {
     "duration": 0.003023,
     "end_time": "2022-05-20T16:49:06.994639",
     "exception": false,
     "start_time": "2022-05-20T16:49:06.991616",
     "status": "completed"
    },
    "tags": []
   },
   "source": [
    "---"
   ]
  },
  {
   "cell_type": "markdown",
   "id": "4a04524c",
   "metadata": {
    "papermill": {
     "duration": 0.002192,
     "end_time": "2022-05-20T16:49:06.999544",
     "exception": false,
     "start_time": "2022-05-20T16:49:06.997352",
     "status": "completed"
    },
    "tags": []
   },
   "source": [
    "Now, we load the models saved previously and evaluate them with the `cross_val_score` function from the `sklearn.model_selection` module."
   ]
  },
  {
   "cell_type": "code",
   "execution_count": 6,
   "id": "341a8173",
   "metadata": {
    "execution": {
     "iopub.execute_input": "2022-05-20T16:49:07.005095Z",
     "iopub.status.busy": "2022-05-20T16:49:07.004851Z",
     "iopub.status.idle": "2022-05-20T16:49:07.012767Z",
     "shell.execute_reply": "2022-05-20T16:49:07.012347Z"
    },
    "papermill": {
     "duration": 0.012728,
     "end_time": "2022-05-20T16:49:07.014444",
     "exception": false,
     "start_time": "2022-05-20T16:49:07.001716",
     "status": "completed"
    },
    "tags": []
   },
   "outputs": [],
   "source": [
    "# Load the models from the disk\n",
    "afr_model = joblib.load(parameters['afr_model'])\n",
    "eur_model = joblib.load(parameters['eur_model'])\n",
    "sas_eas_model = joblib.load(parameters['sas_eas_model'])"
   ]
  },
  {
   "cell_type": "code",
   "execution_count": 7,
   "id": "14248248",
   "metadata": {
    "execution": {
     "iopub.execute_input": "2022-05-20T16:49:07.023343Z",
     "iopub.status.busy": "2022-05-20T16:49:07.023097Z",
     "iopub.status.idle": "2022-05-20T16:54:08.280802Z",
     "shell.execute_reply": "2022-05-20T16:54:08.280268Z"
    },
    "papermill": {
     "duration": 301.265208,
     "end_time": "2022-05-20T16:54:08.283665",
     "exception": false,
     "start_time": "2022-05-20T16:49:07.018457",
     "status": "completed"
    },
    "tags": []
   },
   "outputs": [
    {
     "name": "stdout",
     "output_type": "stream",
     "text": [
      "\n",
      "    AFR model mean score: 0.9715323383084578\n",
      "\n"
     ]
    }
   ],
   "source": [
    "# Evaluate the models using cross validation\n",
    "# AFR model\n",
    "afr_scores = cross_val_score(afr_model, X_afr_train, y_afr_train, cv=10)\n",
    "print(f\"\"\"\n",
    "    AFR model mean score: {afr_scores.mean()}\n",
    "\"\"\")"
   ]
  },
  {
   "cell_type": "code",
   "execution_count": 8,
   "id": "5997d451",
   "metadata": {
    "execution": {
     "iopub.execute_input": "2022-05-20T16:54:08.306170Z",
     "iopub.status.busy": "2022-05-20T16:54:08.305930Z",
     "iopub.status.idle": "2022-05-20T16:57:37.193028Z",
     "shell.execute_reply": "2022-05-20T16:57:37.192425Z"
    },
    "papermill": {
     "duration": 208.895102,
     "end_time": "2022-05-20T16:57:37.196112",
     "exception": false,
     "start_time": "2022-05-20T16:54:08.301010",
     "status": "completed"
    },
    "tags": []
   },
   "outputs": [
    {
     "name": "stdout",
     "output_type": "stream",
     "text": [
      "\n",
      "    EUR model mean score: 0.9480820895522388\n",
      "\n"
     ]
    }
   ],
   "source": [
    "# EUR model\n",
    "eur_scores = cross_val_score(eur_model, X_eur_train, y_eur_train, cv=10)\n",
    "print(f\"\"\"\n",
    "    EUR model mean score: {eur_scores.mean()}\n",
    "\"\"\")"
   ]
  },
  {
   "cell_type": "code",
   "execution_count": 9,
   "id": "ba7d8436",
   "metadata": {
    "execution": {
     "iopub.execute_input": "2022-05-20T16:57:37.218923Z",
     "iopub.status.busy": "2022-05-20T16:57:37.218285Z",
     "iopub.status.idle": "2022-05-20T17:05:31.463670Z",
     "shell.execute_reply": "2022-05-20T17:05:31.462950Z"
    },
    "papermill": {
     "duration": 474.25366,
     "end_time": "2022-05-20T17:05:31.467085",
     "exception": false,
     "start_time": "2022-05-20T16:57:37.213425",
     "status": "completed"
    },
    "tags": []
   },
   "outputs": [
    {
     "name": "stdout",
     "output_type": "stream",
     "text": [
      "\n",
      "    SAS_EAS model mean score: 0.9450721393034828\n",
      "\n"
     ]
    }
   ],
   "source": [
    "# SAS_EAS model\n",
    "sas_eas_scores = cross_val_score(sas_eas_model, X_sas_eas_train, y_sas_eas_train, cv=10)\n",
    "print(f\"\"\"\n",
    "    SAS_EAS model mean score: {sas_eas_scores.mean()}\n",
    "\"\"\")"
   ]
  },
  {
   "cell_type": "markdown",
   "id": "c8f4f3d1",
   "metadata": {
    "papermill": {
     "duration": 0.003981,
     "end_time": "2022-05-20T17:05:31.475212",
     "exception": false,
     "start_time": "2022-05-20T17:05:31.471231",
     "status": "completed"
    },
    "tags": []
   },
   "source": [
    "Finally, we plot the results of the evaluation for each model."
   ]
  },
  {
   "cell_type": "code",
   "execution_count": 10,
   "id": "df856b92",
   "metadata": {
    "execution": {
     "iopub.execute_input": "2022-05-20T17:05:31.482967Z",
     "iopub.status.busy": "2022-05-20T17:05:31.482684Z"
    },
    "papermill": {
     "duration": 58.69505,
     "end_time": "2022-05-20T17:06:30.174029",
     "exception": false,
     "start_time": "2022-05-20T17:05:31.478979",
     "status": "completed"
    },
    "tags": []
   },
   "outputs": [],
   "source": [
    "afr_title = 'AFR Decision Tree Clasifier model'\n",
    "cv = 10\n",
    "estimator = DecisionTreeClassifier()\n",
    "plot_learning_curve(estimator, afr_title, X_afr_train, y_afr_train, cv=cv, n_jobs=-1)\n",
    "plt.rcParams['axes.facecolor'] = 'white'\n",
    "plt.savefig(parameters['afr_model_plot'])\n",
    "plt.show()"
   ]
  },
  {
   "cell_type": "code",
   "execution_count": null,
   "id": "0b5d3a15",
   "metadata": {
    "papermill": {
     "duration": null,
     "end_time": null,
     "exception": null,
     "start_time": null,
     "status": "completed"
    },
    "tags": []
   },
   "outputs": [],
   "source": [
    "eur_title = 'EUR Decision Tree Clasifier model'\n",
    "plot_learning_curve(estimator, eur_title, X_eur_train, y_eur_train, cv=cv, n_jobs=-1)\n",
    "plt.rcParams['axes.facecolor'] = 'white'\n",
    "plt.savefig(parameters['eur_model_plot'])\n",
    "plt.show()"
   ]
  },
  {
   "cell_type": "code",
   "execution_count": null,
   "id": "81935f3d",
   "metadata": {
    "papermill": {
     "duration": null,
     "end_time": null,
     "exception": null,
     "start_time": null,
     "status": "completed"
    },
    "tags": []
   },
   "outputs": [],
   "source": [
    "sas_eas_title = 'SAS_EAS Decision Tree Clasifier model'\n",
    "plot_learning_curve(estimator, sas_eas_title, X_sas_eas_train, y_sas_eas_train, cv=cv, n_jobs=-1)\n",
    "plt.rcParams['axes.facecolor'] = 'white'\n",
    "plt.savefig(parameters['sas_eas_model_plot'])\n",
    "plt.show()"
   ]
  }
 ],
 "metadata": {
  "interpreter": {
   "hash": "6e9308924db3450c828d689c970f8922fbaf92d5fecac9cb4c2acf46e71fd27c"
  },
  "kernelspec": {
   "display_name": "Python 3 (ipykernel)",
   "language": "python",
   "name": "python3"
  },
  "language_info": {
   "codemirror_mode": {
    "name": "ipython",
    "version": 3
   },
   "file_extension": ".py",
   "mimetype": "text/x-python",
   "name": "python",
   "nbconvert_exporter": "python",
   "pygments_lexer": "ipython3",
   "version": "3.8.10"
  },
  "papermill": {
   "default_parameters": {},
   "duration": 1055.485291,
   "end_time": "2022-05-20T17:06:30.199449",
   "environment_variables": {},
   "exception": null,
   "input_path": "3_evaluate-model.ipynb",
   "output_path": "tmp/papermill_tmp.ipynb",
   "parameters": {},
   "start_time": "2022-05-20T16:48:54.714158",
   "version": "2.3.4"
  }
 },
 "nbformat": 4,
 "nbformat_minor": 5
}