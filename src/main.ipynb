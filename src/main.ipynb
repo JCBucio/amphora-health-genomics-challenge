{
 "cells": [
  {
   "cell_type": "markdown",
   "metadata": {},
   "source": [
    "# Machine learning chellenges for genomics\n",
    "### 2022 Amphora Health's Data Challenge Internship"
   ]
  },
  {
   "cell_type": "markdown",
   "metadata": {},
   "source": [
    "The objective of the 2022 Amphora Health’s Data Challenge Internship is to explore the genomic information that exists in our cells and develop machine learning models that can predict the risk of developing or acquiring a given disease.\n",
    "\n",
    "The goal of this challenge is to test the candidate’s ability to deliver a fully functional computational genomics product, which includes training a machine learning model, evaluating its accuracy, and testing it with new input from patients.\n",
    "\n",
    "This data challenge is an integral part of Amphora Health's recruitment process and it is designed to identify the top candidates. Thank you for taking the time to participate in this process and for your interest in Amphora Health. We hope that by the end of this challenge you would have learned something novel for you as well."
   ]
  },
  {
   "cell_type": "markdown",
   "metadata": {},
   "source": [
    "## 1. Instructions\n",
    "**Data input.** You will be provided with a single ZIP file (ah-challenge-internship2022.zip) consisting of 2,504 CSV files, and a coordination TSV file listing all patient IDs and their calculated genetic ancestry (e.g. European, Asian, African)."
   ]
  },
  {
   "cell_type": "markdown",
   "metadata": {},
   "source": [
    "Inside each patient file, you will see three columns:\n",
    "\n",
    "1. The first column indicates the chromosome number of a DNA location, followed by a semicolon, and the specific location within that chromosome (e.g. 21:65214, means the chromosome 21, in the location 65214) Remember that the human genome consists of 23 pairs of chromosomes, and each chromosome has a different length.\n",
    "\n",
    "2. The second one shows the nucleotide that is expected at this DNA location. Remember that a nucleotide is one molecule that builds the double helix strand of the DNA. These molecules can be adenine (A), guanine (G), cytosine (C), and thiamine (T). A DNA strand is represented as a list of these letters.\n",
    "\n",
    "3. The third column is a binary label representing the presence (1) or absence (0) of the expected nucleotide in this location."
   ]
  },
  {
   "cell_type": "markdown",
   "metadata": {},
   "source": [
    "**Task 1.** Your first task is to merge all the files into a single table to construct a merged genotype file for several individuals, this will become your training dataset.\n",
    "\n",
    "**Task 2.** Read from the ancestries file and extract the column called “Superpopulation Code”. Augment your merged file to include this new column. Each ancestry will be your target vector for the model. In other models, this target vector can be the presence or absence of disease (e.g. diabetes or not, cancer or not, etc.)\n",
    "\n",
    "**Task 3.** Split your database into 80% for training and 20% for testing. You will have to do a 10-fold cross-validation on the training set.\n",
    "\n",
    "**Task 4.** Train a machine learning model for a binary target (one per ancestry). For example, if a participant has African ancestry or not, another model for Asian ancestry, and a third model for European Ancestry.\n",
    "\n",
    "**Task 5.** Evaluate the accuracy of prediction using the area under the curve (AUC) for each model using 10-fold cross-validation."
   ]
  },
  {
   "cell_type": "code",
   "execution_count": 1,
   "metadata": {},
   "outputs": [],
   "source": [
    "import papermill as pm\n",
    "import glob\n",
    "import numpy as np"
   ]
  },
  {
   "cell_type": "code",
   "execution_count": 2,
   "metadata": {},
   "outputs": [],
   "source": [
    "pipeline_files = glob.glob(r'[0-9]*.ipynb', recursive=None)\n",
    "pipeline_files = np.sort(pipeline_files)"
   ]
  },
  {
   "cell_type": "code",
   "execution_count": 3,
   "metadata": {},
   "outputs": [
    {
     "data": {
      "text/plain": [
       "array(['0_preprocessing.ipynb', '1_data-augmentation.ipynb',\n",
       "       '2_model-training.ipynb', '3_evaluate-model.ipynb'], dtype='<U25')"
      ]
     },
     "execution_count": 3,
     "metadata": {},
     "output_type": "execute_result"
    }
   ],
   "source": [
    "pipeline_files"
   ]
  },
  {
   "cell_type": "code",
   "execution_count": null,
   "metadata": {},
   "outputs": [],
   "source": [
    "for i, node in enumerate(pipeline_files):\n",
    "    print(\"--- Pipeline {}/{}\".format(i+1, len(pipeline_files)))\n",
    "    print(\"Running notebook: \", node)\n",
    "    pm.execute_notebook(node, \"tmp/papermill_tmp.ipynb\")"
   ]
  }
 ],
 "metadata": {
  "interpreter": {
   "hash": "6e9308924db3450c828d689c970f8922fbaf92d5fecac9cb4c2acf46e71fd27c"
  },
  "kernelspec": {
   "display_name": "Python 3.8.10 ('amphora-env': venv)",
   "language": "python",
   "name": "python3"
  },
  "language_info": {
   "codemirror_mode": {
    "name": "ipython",
    "version": 3
   },
   "file_extension": ".py",
   "mimetype": "text/x-python",
   "name": "python",
   "nbconvert_exporter": "python",
   "pygments_lexer": "ipython3",
   "version": "3.8.10"
  },
  "orig_nbformat": 4
 },
 "nbformat": 4,
 "nbformat_minor": 2
}
