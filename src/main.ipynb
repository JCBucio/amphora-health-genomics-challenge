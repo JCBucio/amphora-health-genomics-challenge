{
 "cells": [
  {
   "cell_type": "markdown",
   "metadata": {},
   "source": [
    "# Running the project\n",
    "\n",
    "In this notebook we can run the entire project and generate all the files and models. In here I am using the [papermill](https://papermill.readthedocs.io/en/latest/) package to run the notebooks. The entire process take around 30 minutes to run in my 8-core machine with 8GB of RAM. Please be patient."
   ]
  },
  {
   "cell_type": "code",
   "execution_count": 1,
   "metadata": {},
   "outputs": [],
   "source": [
    "import papermill as pm\n",
    "import glob\n",
    "import numpy as np"
   ]
  },
  {
   "cell_type": "code",
   "execution_count": 2,
   "metadata": {},
   "outputs": [],
   "source": [
    "pipeline_files = glob.glob(r'[0-9]*.ipynb', recursive=None)\n",
    "pipeline_files = np.sort(pipeline_files)"
   ]
  },
  {
   "cell_type": "code",
   "execution_count": 3,
   "metadata": {},
   "outputs": [
    {
     "data": {
      "text/plain": [
       "array(['0_preprocessing.ipynb', '1_data-augmentation.ipynb',\n",
       "       '2_split-and-training.ipynb', '3_evaluate-model.ipynb'],\n",
       "      dtype='<U26')"
      ]
     },
     "execution_count": 3,
     "metadata": {},
     "output_type": "execute_result"
    }
   ],
   "source": [
    "pipeline_files"
   ]
  },
  {
   "cell_type": "code",
   "execution_count": 4,
   "metadata": {},
   "outputs": [
    {
     "name": "stderr",
     "output_type": "stream",
     "text": [
      "/home/gti/Documents/jcbucio/amphora-health-application/ah-challenge-internship2022/amphora-health-genomics-challenge/amphora-env/lib/python3.8/site-packages/tqdm/auto.py:22: TqdmWarning: IProgress not found. Please update jupyter and ipywidgets. See https://ipywidgets.readthedocs.io/en/stable/user_install.html\n",
      "  from .autonotebook import tqdm as notebook_tqdm\n"
     ]
    },
    {
     "name": "stdout",
     "output_type": "stream",
     "text": [
      "--- Pipeline 0/4\n",
      "Running notebook:  0_preprocessing.ipynb\n"
     ]
    },
    {
     "name": "stderr",
     "output_type": "stream",
     "text": [
      "Executing: 100%|██████████| 14/14 [05:51<00:00, 25.14s/cell]\n"
     ]
    },
    {
     "name": "stdout",
     "output_type": "stream",
     "text": [
      "--- Pipeline 1/4\n",
      "Running notebook:  1_data-augmentation.ipynb\n"
     ]
    },
    {
     "name": "stderr",
     "output_type": "stream",
     "text": [
      "Executing: 100%|██████████| 24/24 [02:25<00:00,  6.05s/cell]\n"
     ]
    },
    {
     "name": "stdout",
     "output_type": "stream",
     "text": [
      "--- Pipeline 2/4\n",
      "Running notebook:  2_split-and-training.ipynb\n"
     ]
    },
    {
     "name": "stderr",
     "output_type": "stream",
     "text": [
      "Executing: 100%|██████████| 26/26 [02:55<00:00,  6.75s/cell]\n"
     ]
    },
    {
     "name": "stdout",
     "output_type": "stream",
     "text": [
      "--- Pipeline 3/4\n",
      "Running notebook:  3_evaluate-model.ipynb\n"
     ]
    },
    {
     "name": "stderr",
     "output_type": "stream",
     "text": [
      "Executing: 100%|██████████| 14/14 [27:03<00:00, 115.99s/cell]\n"
     ]
    }
   ],
   "source": [
    "for i, node in enumerate(pipeline_files):\n",
    "    print(\"--- Pipeline {}/{}\".format(i, len(pipeline_files)))\n",
    "    print(\"Running notebook: \", node)\n",
    "    pm.execute_notebook(node, \"tmp/papermill_tmp.ipynb\")"
   ]
  }
 ],
 "metadata": {
  "interpreter": {
   "hash": "6e9308924db3450c828d689c970f8922fbaf92d5fecac9cb4c2acf46e71fd27c"
  },
  "kernelspec": {
   "display_name": "Python 3.8.10 ('amphora-env': venv)",
   "language": "python",
   "name": "python3"
  },
  "language_info": {
   "codemirror_mode": {
    "name": "ipython",
    "version": 3
   },
   "file_extension": ".py",
   "mimetype": "text/x-python",
   "name": "python",
   "nbconvert_exporter": "python",
   "pygments_lexer": "ipython3",
   "version": "3.8.10"
  },
  "orig_nbformat": 4
 },
 "nbformat": 4,
 "nbformat_minor": 2
}
