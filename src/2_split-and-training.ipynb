{
 "cells": [
  {
   "cell_type": "markdown",
   "metadata": {},
   "source": [
    "# Task 3. Splitting database into training and testing sets."
   ]
  },
  {
   "cell_type": "code",
   "execution_count": 1,
   "metadata": {},
   "outputs": [],
   "source": [
    "import pandas as pd\n",
    "import numpy as np\n",
    "import matplotlib.pyplot as plt\n",
    "import joblib\n",
    "\n",
    "from sklearn.model_selection import train_test_split\n",
    "from sklearn.tree import DecisionTreeClassifier\n",
    "from sklearn.metrics import accuracy_score\n",
    "\n",
    "from utils import *"
   ]
  },
  {
   "cell_type": "code",
   "execution_count": 2,
   "metadata": {},
   "outputs": [
    {
     "data": {
      "text/html": [
       "<div>\n",
       "<style scoped>\n",
       "    .dataframe tbody tr th:only-of-type {\n",
       "        vertical-align: middle;\n",
       "    }\n",
       "\n",
       "    .dataframe tbody tr th {\n",
       "        vertical-align: top;\n",
       "    }\n",
       "\n",
       "    .dataframe thead th {\n",
       "        text-align: right;\n",
       "    }\n",
       "</style>\n",
       "<table border=\"1\" class=\"dataframe\">\n",
       "  <thead>\n",
       "    <tr style=\"text-align: right;\">\n",
       "      <th></th>\n",
       "      <th>patient</th>\n",
       "      <th>5:195139</th>\n",
       "      <th>5:336952</th>\n",
       "      <th>5:389603</th>\n",
       "      <th>5:851582</th>\n",
       "      <th>5:1144802</th>\n",
       "      <th>5:1167618</th>\n",
       "      <th>5:1175892</th>\n",
       "      <th>5:1398007</th>\n",
       "      <th>5:1447860</th>\n",
       "      <th>...</th>\n",
       "      <th>22:49363742</th>\n",
       "      <th>22:49578486</th>\n",
       "      <th>22:49651708</th>\n",
       "      <th>22:49666841</th>\n",
       "      <th>22:49797810</th>\n",
       "      <th>22:49855674</th>\n",
       "      <th>22:50021013</th>\n",
       "      <th>22:50258751</th>\n",
       "      <th>22:50458664</th>\n",
       "      <th>superpopulation_code</th>\n",
       "    </tr>\n",
       "  </thead>\n",
       "  <tbody>\n",
       "    <tr>\n",
       "      <th>0</th>\n",
       "      <td>NA19625</td>\n",
       "      <td>0</td>\n",
       "      <td>0</td>\n",
       "      <td>1</td>\n",
       "      <td>1</td>\n",
       "      <td>1</td>\n",
       "      <td>0</td>\n",
       "      <td>0</td>\n",
       "      <td>1</td>\n",
       "      <td>1</td>\n",
       "      <td>...</td>\n",
       "      <td>0</td>\n",
       "      <td>0</td>\n",
       "      <td>1</td>\n",
       "      <td>1</td>\n",
       "      <td>0</td>\n",
       "      <td>1</td>\n",
       "      <td>0</td>\n",
       "      <td>1</td>\n",
       "      <td>0</td>\n",
       "      <td>AFR</td>\n",
       "    </tr>\n",
       "    <tr>\n",
       "      <th>1</th>\n",
       "      <td>NA19835</td>\n",
       "      <td>0</td>\n",
       "      <td>0</td>\n",
       "      <td>1</td>\n",
       "      <td>1</td>\n",
       "      <td>1</td>\n",
       "      <td>0</td>\n",
       "      <td>0</td>\n",
       "      <td>0</td>\n",
       "      <td>0</td>\n",
       "      <td>...</td>\n",
       "      <td>0</td>\n",
       "      <td>0</td>\n",
       "      <td>0</td>\n",
       "      <td>1</td>\n",
       "      <td>1</td>\n",
       "      <td>1</td>\n",
       "      <td>0</td>\n",
       "      <td>1</td>\n",
       "      <td>0</td>\n",
       "      <td>AFR</td>\n",
       "    </tr>\n",
       "    <tr>\n",
       "      <th>2</th>\n",
       "      <td>NA19900</td>\n",
       "      <td>0</td>\n",
       "      <td>0</td>\n",
       "      <td>1</td>\n",
       "      <td>0</td>\n",
       "      <td>1</td>\n",
       "      <td>0</td>\n",
       "      <td>0</td>\n",
       "      <td>0</td>\n",
       "      <td>0</td>\n",
       "      <td>...</td>\n",
       "      <td>1</td>\n",
       "      <td>0</td>\n",
       "      <td>0</td>\n",
       "      <td>1</td>\n",
       "      <td>1</td>\n",
       "      <td>1</td>\n",
       "      <td>0</td>\n",
       "      <td>0</td>\n",
       "      <td>0</td>\n",
       "      <td>AFR</td>\n",
       "    </tr>\n",
       "    <tr>\n",
       "      <th>3</th>\n",
       "      <td>NA19917</td>\n",
       "      <td>0</td>\n",
       "      <td>0</td>\n",
       "      <td>1</td>\n",
       "      <td>0</td>\n",
       "      <td>1</td>\n",
       "      <td>0</td>\n",
       "      <td>0</td>\n",
       "      <td>0</td>\n",
       "      <td>0</td>\n",
       "      <td>...</td>\n",
       "      <td>0</td>\n",
       "      <td>0</td>\n",
       "      <td>0</td>\n",
       "      <td>1</td>\n",
       "      <td>0</td>\n",
       "      <td>1</td>\n",
       "      <td>0</td>\n",
       "      <td>1</td>\n",
       "      <td>0</td>\n",
       "      <td>AFR</td>\n",
       "    </tr>\n",
       "    <tr>\n",
       "      <th>4</th>\n",
       "      <td>NA19703</td>\n",
       "      <td>0</td>\n",
       "      <td>1</td>\n",
       "      <td>1</td>\n",
       "      <td>0</td>\n",
       "      <td>1</td>\n",
       "      <td>0</td>\n",
       "      <td>0</td>\n",
       "      <td>1</td>\n",
       "      <td>1</td>\n",
       "      <td>...</td>\n",
       "      <td>0</td>\n",
       "      <td>0</td>\n",
       "      <td>1</td>\n",
       "      <td>1</td>\n",
       "      <td>0</td>\n",
       "      <td>1</td>\n",
       "      <td>0</td>\n",
       "      <td>0</td>\n",
       "      <td>0</td>\n",
       "      <td>AFR</td>\n",
       "    </tr>\n",
       "  </tbody>\n",
       "</table>\n",
       "<p>5 rows × 10030 columns</p>\n",
       "</div>"
      ],
      "text/plain": [
       "   patient  5:195139  5:336952  5:389603  5:851582  5:1144802  5:1167618  \\\n",
       "0  NA19625         0         0         1         1          1          0   \n",
       "1  NA19835         0         0         1         1          1          0   \n",
       "2  NA19900         0         0         1         0          1          0   \n",
       "3  NA19917         0         0         1         0          1          0   \n",
       "4  NA19703         0         1         1         0          1          0   \n",
       "\n",
       "   5:1175892  5:1398007  5:1447860  ...  22:49363742  22:49578486  \\\n",
       "0          0          1          1  ...            0            0   \n",
       "1          0          0          0  ...            0            0   \n",
       "2          0          0          0  ...            1            0   \n",
       "3          0          0          0  ...            0            0   \n",
       "4          0          1          1  ...            0            0   \n",
       "\n",
       "   22:49651708  22:49666841  22:49797810  22:49855674  22:50021013  \\\n",
       "0            1            1            0            1            0   \n",
       "1            0            1            1            1            0   \n",
       "2            0            1            1            1            0   \n",
       "3            0            1            0            1            0   \n",
       "4            1            1            0            1            0   \n",
       "\n",
       "   22:50258751  22:50458664  superpopulation_code  \n",
       "0            1            0                   AFR  \n",
       "1            1            0                   AFR  \n",
       "2            0            0                   AFR  \n",
       "3            1            0                   AFR  \n",
       "4            0            0                   AFR  \n",
       "\n",
       "[5 rows x 10030 columns]"
      ]
     },
     "execution_count": 2,
     "metadata": {},
     "output_type": "execute_result"
    }
   ],
   "source": [
    "master_df = pd.read_csv(parameters['master_augmented_2'], sep=',')\n",
    "master_df.head()"
   ]
  },
  {
   "cell_type": "code",
   "execution_count": 3,
   "metadata": {},
   "outputs": [
    {
     "data": {
      "text/plain": [
       "array(['African Ancestry', 'South Asian Ancestry',\n",
       "       'South Asia (SGDP),South Asian Ancestry', 'European Ancestry',\n",
       "       'European Ancestry,West Eurasia (SGDP)', 'American Ancestry',\n",
       "       'East Asian Ancestry', 'African Ancestry,Africa (SGDP)',\n",
       "       'East Asia (SGDP),East Asian Ancestry'], dtype=object)"
      ]
     },
     "execution_count": 3,
     "metadata": {},
     "output_type": "execute_result"
    }
   ],
   "source": [
    "tsv = pd.read_csv(parameters['tsv_file'], sep='\\t')\n",
    "tsv['Superpopulation name'].unique()"
   ]
  },
  {
   "cell_type": "code",
   "execution_count": 4,
   "metadata": {},
   "outputs": [
    {
     "data": {
      "text/plain": [
       "array(['AFR', 'SAS', 'EUR', 'AMR', 'EAS'], dtype=object)"
      ]
     },
     "execution_count": 4,
     "metadata": {},
     "output_type": "execute_result"
    }
   ],
   "source": [
    "tsv['Superpopulation code'].unique()"
   ]
  },
  {
   "cell_type": "code",
   "execution_count": 5,
   "metadata": {},
   "outputs": [
    {
     "data": {
      "text/html": [
       "<div>\n",
       "<style scoped>\n",
       "    .dataframe tbody tr th:only-of-type {\n",
       "        vertical-align: middle;\n",
       "    }\n",
       "\n",
       "    .dataframe tbody tr th {\n",
       "        vertical-align: top;\n",
       "    }\n",
       "\n",
       "    .dataframe thead th {\n",
       "        text-align: right;\n",
       "    }\n",
       "</style>\n",
       "<table border=\"1\" class=\"dataframe\">\n",
       "  <thead>\n",
       "    <tr style=\"text-align: right;\">\n",
       "      <th></th>\n",
       "      <th>5:195139</th>\n",
       "      <th>5:336952</th>\n",
       "      <th>5:389603</th>\n",
       "      <th>5:851582</th>\n",
       "      <th>5:1144802</th>\n",
       "      <th>5:1167618</th>\n",
       "      <th>5:1175892</th>\n",
       "      <th>5:1398007</th>\n",
       "      <th>5:1447860</th>\n",
       "      <th>5:1721485</th>\n",
       "      <th>...</th>\n",
       "      <th>22:49363742</th>\n",
       "      <th>22:49578486</th>\n",
       "      <th>22:49651708</th>\n",
       "      <th>22:49666841</th>\n",
       "      <th>22:49797810</th>\n",
       "      <th>22:49855674</th>\n",
       "      <th>22:50021013</th>\n",
       "      <th>22:50258751</th>\n",
       "      <th>22:50458664</th>\n",
       "      <th>superpopulation_code</th>\n",
       "    </tr>\n",
       "  </thead>\n",
       "  <tbody>\n",
       "    <tr>\n",
       "      <th>0</th>\n",
       "      <td>0</td>\n",
       "      <td>0</td>\n",
       "      <td>1</td>\n",
       "      <td>1</td>\n",
       "      <td>1</td>\n",
       "      <td>0</td>\n",
       "      <td>0</td>\n",
       "      <td>1</td>\n",
       "      <td>1</td>\n",
       "      <td>1</td>\n",
       "      <td>...</td>\n",
       "      <td>0</td>\n",
       "      <td>0</td>\n",
       "      <td>1</td>\n",
       "      <td>1</td>\n",
       "      <td>0</td>\n",
       "      <td>1</td>\n",
       "      <td>0</td>\n",
       "      <td>1</td>\n",
       "      <td>0</td>\n",
       "      <td>AFR</td>\n",
       "    </tr>\n",
       "    <tr>\n",
       "      <th>1</th>\n",
       "      <td>0</td>\n",
       "      <td>0</td>\n",
       "      <td>1</td>\n",
       "      <td>1</td>\n",
       "      <td>1</td>\n",
       "      <td>0</td>\n",
       "      <td>0</td>\n",
       "      <td>0</td>\n",
       "      <td>0</td>\n",
       "      <td>1</td>\n",
       "      <td>...</td>\n",
       "      <td>0</td>\n",
       "      <td>0</td>\n",
       "      <td>0</td>\n",
       "      <td>1</td>\n",
       "      <td>1</td>\n",
       "      <td>1</td>\n",
       "      <td>0</td>\n",
       "      <td>1</td>\n",
       "      <td>0</td>\n",
       "      <td>AFR</td>\n",
       "    </tr>\n",
       "    <tr>\n",
       "      <th>2</th>\n",
       "      <td>0</td>\n",
       "      <td>0</td>\n",
       "      <td>1</td>\n",
       "      <td>0</td>\n",
       "      <td>1</td>\n",
       "      <td>0</td>\n",
       "      <td>0</td>\n",
       "      <td>0</td>\n",
       "      <td>0</td>\n",
       "      <td>0</td>\n",
       "      <td>...</td>\n",
       "      <td>1</td>\n",
       "      <td>0</td>\n",
       "      <td>0</td>\n",
       "      <td>1</td>\n",
       "      <td>1</td>\n",
       "      <td>1</td>\n",
       "      <td>0</td>\n",
       "      <td>0</td>\n",
       "      <td>0</td>\n",
       "      <td>AFR</td>\n",
       "    </tr>\n",
       "    <tr>\n",
       "      <th>3</th>\n",
       "      <td>0</td>\n",
       "      <td>0</td>\n",
       "      <td>1</td>\n",
       "      <td>0</td>\n",
       "      <td>1</td>\n",
       "      <td>0</td>\n",
       "      <td>0</td>\n",
       "      <td>0</td>\n",
       "      <td>0</td>\n",
       "      <td>0</td>\n",
       "      <td>...</td>\n",
       "      <td>0</td>\n",
       "      <td>0</td>\n",
       "      <td>0</td>\n",
       "      <td>1</td>\n",
       "      <td>0</td>\n",
       "      <td>1</td>\n",
       "      <td>0</td>\n",
       "      <td>1</td>\n",
       "      <td>0</td>\n",
       "      <td>AFR</td>\n",
       "    </tr>\n",
       "    <tr>\n",
       "      <th>4</th>\n",
       "      <td>0</td>\n",
       "      <td>1</td>\n",
       "      <td>1</td>\n",
       "      <td>0</td>\n",
       "      <td>1</td>\n",
       "      <td>0</td>\n",
       "      <td>0</td>\n",
       "      <td>1</td>\n",
       "      <td>1</td>\n",
       "      <td>1</td>\n",
       "      <td>...</td>\n",
       "      <td>0</td>\n",
       "      <td>0</td>\n",
       "      <td>1</td>\n",
       "      <td>1</td>\n",
       "      <td>0</td>\n",
       "      <td>1</td>\n",
       "      <td>0</td>\n",
       "      <td>0</td>\n",
       "      <td>0</td>\n",
       "      <td>AFR</td>\n",
       "    </tr>\n",
       "  </tbody>\n",
       "</table>\n",
       "<p>5 rows × 10029 columns</p>\n",
       "</div>"
      ],
      "text/plain": [
       "   5:195139  5:336952  5:389603  5:851582  5:1144802  5:1167618  5:1175892  \\\n",
       "0         0         0         1         1          1          0          0   \n",
       "1         0         0         1         1          1          0          0   \n",
       "2         0         0         1         0          1          0          0   \n",
       "3         0         0         1         0          1          0          0   \n",
       "4         0         1         1         0          1          0          0   \n",
       "\n",
       "   5:1398007  5:1447860  5:1721485  ...  22:49363742  22:49578486  \\\n",
       "0          1          1          1  ...            0            0   \n",
       "1          0          0          1  ...            0            0   \n",
       "2          0          0          0  ...            1            0   \n",
       "3          0          0          0  ...            0            0   \n",
       "4          1          1          1  ...            0            0   \n",
       "\n",
       "   22:49651708  22:49666841  22:49797810  22:49855674  22:50021013  \\\n",
       "0            1            1            0            1            0   \n",
       "1            0            1            1            1            0   \n",
       "2            0            1            1            1            0   \n",
       "3            0            1            0            1            0   \n",
       "4            1            1            0            1            0   \n",
       "\n",
       "   22:50258751  22:50458664  superpopulation_code  \n",
       "0            1            0                   AFR  \n",
       "1            1            0                   AFR  \n",
       "2            0            0                   AFR  \n",
       "3            1            0                   AFR  \n",
       "4            0            0                   AFR  \n",
       "\n",
       "[5 rows x 10029 columns]"
      ]
     },
     "execution_count": 5,
     "metadata": {},
     "output_type": "execute_result"
    }
   ],
   "source": [
    "# Drop 'patient' column \n",
    "master_df.drop(columns=['patient'], inplace=True)\n",
    "master_df.head()"
   ]
  },
  {
   "cell_type": "code",
   "execution_count": 6,
   "metadata": {},
   "outputs": [
    {
     "name": "stdout",
     "output_type": "stream",
     "text": [
      "Length of master_df: 2504\n",
      "Length of master_clean: 2157\n"
     ]
    }
   ],
   "source": [
    "# Drop the columns that have the value of AMR in the superpopulation_code column\n",
    "master_clean = master_df[master_df['superpopulation_code'] != 'AMR']\n",
    "print(f\"Length of master_df: {len(master_df)}\\nLength of master_clean: {len(master_clean)}\")"
   ]
  },
  {
   "cell_type": "code",
   "execution_count": 7,
   "metadata": {},
   "outputs": [
    {
     "name": "stdout",
     "output_type": "stream",
     "text": [
      "Length of afr_df: 661\n",
      "Length of eur_df: 503\n",
      "Length of sas_eas_df: 993\n"
     ]
    },
    {
     "name": "stderr",
     "output_type": "stream",
     "text": [
      "/tmp/ipykernel_39462/1378959345.py:7: FutureWarning: The frame.append method is deprecated and will be removed from pandas in a future version. Use pandas.concat instead.\n",
      "  sas_eas_df = sas_eas_df.append(master_clean[master_clean['superpopulation_code'] == 'EAS'])\n"
     ]
    }
   ],
   "source": [
    "# Dataframe only with data with AFR\n",
    "afr_df = master_clean[master_clean['superpopulation_code'] == 'AFR']\n",
    "# Dataframe only with data with EUR\n",
    "eur_df = master_clean[master_clean['superpopulation_code'] == 'EUR']\n",
    "# Dataframe only with data with SAS and EAS\n",
    "sas_eas_df = master_clean[master_clean['superpopulation_code'] == 'SAS']\n",
    "sas_eas_df = sas_eas_df.append(master_clean[master_clean['superpopulation_code'] == 'EAS'])\n",
    "\n",
    "print(f\"Length of afr_df: {len(afr_df)}\\nLength of eur_df: {len(eur_df)}\\nLength of sas_eas_df: {len(sas_eas_df)}\")"
   ]
  },
  {
   "cell_type": "markdown",
   "metadata": {},
   "source": [
    "### AFR model splitting"
   ]
  },
  {
   "cell_type": "code",
   "execution_count": 8,
   "metadata": {},
   "outputs": [],
   "source": [
    "# Function that receives a dataframe and returns a dataframe with the target variable removed and train and test split\n",
    "def split_dataframe(df, target_variable):\n",
    "    # Get X and y from the dataframe\n",
    "    X = df.copy(deep=True)\n",
    "    y = X[target_variable]\n",
    "    X.drop(target_variable, axis=1, inplace=True)\n",
    "\n",
    "    # Split the dataframe into train and test\n",
    "    X_train, X_test, y_train, y_test = train_test_split(X, y, test_size=0.2, random_state=1)\n",
    "    return X_train, X_test, y_train, y_test"
   ]
  },
  {
   "cell_type": "code",
   "execution_count": 9,
   "metadata": {},
   "outputs": [
    {
     "name": "stdout",
     "output_type": "stream",
     "text": [
      "\n",
      "    X_afr_train: (528, 10028), X_afr_test: (133, 10028)\n",
      "\n",
      "    y_afr_train: (528,), y_afr_test: (133,)\n",
      "    \n"
     ]
    }
   ],
   "source": [
    "X_afr_train, X_afr_test, y_afr_train, y_afr_test = split_dataframe(afr_df, 'superpopulation_code')\n",
    "print(f\"\"\"\n",
    "    X_afr_train: {X_afr_train.shape}, X_afr_test: {X_afr_test.shape}\\n\n",
    "    y_afr_train: {y_afr_train.shape}, y_afr_test: {y_afr_test.shape}\n",
    "    \"\"\")"
   ]
  },
  {
   "cell_type": "markdown",
   "metadata": {},
   "source": [
    "### EUR model splitting"
   ]
  },
  {
   "cell_type": "code",
   "execution_count": 10,
   "metadata": {},
   "outputs": [
    {
     "name": "stdout",
     "output_type": "stream",
     "text": [
      "\n",
      "    X_eur_train: (402, 10028), X_eur_test: (101, 10028)\n",
      "\n",
      "    y_eur_train: (402,), y_eur_test: (101,)\n",
      "    \n"
     ]
    }
   ],
   "source": [
    "X_eur_train, X_eur_test, y_eur_train, y_eur_test = split_dataframe(eur_df, 'superpopulation_code')\n",
    "print(f\"\"\"\n",
    "    X_eur_train: {X_eur_train.shape}, X_eur_test: {X_eur_test.shape}\\n\n",
    "    y_eur_train: {y_eur_train.shape}, y_eur_test: {y_eur_test.shape}\n",
    "    \"\"\")"
   ]
  },
  {
   "cell_type": "markdown",
   "metadata": {},
   "source": [
    "### SAS and EAS model splitting"
   ]
  },
  {
   "cell_type": "code",
   "execution_count": 11,
   "metadata": {},
   "outputs": [
    {
     "name": "stdout",
     "output_type": "stream",
     "text": [
      "\n",
      "    X_sas_eas_train: (794, 10028), X_sas_eas_test: (199, 10028)\n",
      "\n",
      "    y_sas_eas_train: (794,), y_sas_eas_test: (199,)\n",
      "    \n"
     ]
    }
   ],
   "source": [
    "X_sas_eas_train, X_sas_eas_test, y_sas_eas_train, y_sas_eas_test = split_dataframe(sas_eas_df, 'superpopulation_code')\n",
    "print(f\"\"\"\n",
    "    X_sas_eas_train: {X_sas_eas_train.shape}, X_sas_eas_test: {X_sas_eas_test.shape}\\n\n",
    "    y_sas_eas_train: {y_sas_eas_train.shape}, y_sas_eas_test: {y_sas_eas_test.shape}\n",
    "    \"\"\")"
   ]
  },
  {
   "cell_type": "markdown",
   "metadata": {},
   "source": [
    "---"
   ]
  },
  {
   "cell_type": "markdown",
   "metadata": {},
   "source": [
    "# Task 4. Training a model for each ancestry"
   ]
  },
  {
   "cell_type": "code",
   "execution_count": 12,
   "metadata": {},
   "outputs": [],
   "source": [
    "# Function that generates a model and returns the model trained\n",
    "def generate_model(X_train, y_train):\n",
    "    model = DecisionTreeClassifier()\n",
    "    model.fit(X_train, y_train)\n",
    "    return model"
   ]
  },
  {
   "cell_type": "markdown",
   "metadata": {},
   "source": [
    "### AFR model training"
   ]
  },
  {
   "cell_type": "code",
   "execution_count": 13,
   "metadata": {},
   "outputs": [
    {
     "name": "stdout",
     "output_type": "stream",
     "text": [
      "Accuracy of the AFR model: 1.0\n"
     ]
    }
   ],
   "source": [
    "afr_model = generate_model(X_afr_train, y_afr_train)\n",
    "# Print the accuracy of the model\n",
    "print(f\"Accuracy of the AFR model: {accuracy_score(y_afr_test, afr_model.predict(X_afr_test))}\")"
   ]
  },
  {
   "cell_type": "markdown",
   "metadata": {},
   "source": [
    "### EUR model training"
   ]
  },
  {
   "cell_type": "code",
   "execution_count": 14,
   "metadata": {},
   "outputs": [
    {
     "name": "stdout",
     "output_type": "stream",
     "text": [
      "Accuracy of the EUR model: 1.0\n"
     ]
    }
   ],
   "source": [
    "eur_model = generate_model(X_eur_train, y_eur_train)\n",
    "# Print the accuracy of the model\n",
    "print(f\"Accuracy of the EUR model: {accuracy_score(y_eur_test, eur_model.predict(X_eur_test))}\")"
   ]
  },
  {
   "cell_type": "markdown",
   "metadata": {},
   "source": [
    "### SAS and EAS model training"
   ]
  },
  {
   "cell_type": "code",
   "execution_count": 15,
   "metadata": {},
   "outputs": [
    {
     "name": "stdout",
     "output_type": "stream",
     "text": [
      "Accuracy of the SAS/EAS model: 0.9447236180904522\n"
     ]
    }
   ],
   "source": [
    "sas_eas_model = generate_model(X_sas_eas_train, y_sas_eas_train)\n",
    "# Print the accuracy of the model\n",
    "print(f\"Accuracy of the SAS/EAS model: {accuracy_score(y_sas_eas_test, sas_eas_model.predict(X_sas_eas_test))}\")"
   ]
  },
  {
   "cell_type": "markdown",
   "metadata": {},
   "source": [
    "---"
   ]
  },
  {
   "cell_type": "code",
   "execution_count": 16,
   "metadata": {},
   "outputs": [],
   "source": [
    "# Evaluate the models with a 10-fold cross validation\n",
    "from sklearn.model_selection import cross_val_score"
   ]
  },
  {
   "cell_type": "code",
   "execution_count": 17,
   "metadata": {},
   "outputs": [
    {
     "name": "stdout",
     "output_type": "stream",
     "text": [
      "Accuracy of the AFR model: 1.0\n"
     ]
    }
   ],
   "source": [
    "afr_accuracy = cross_val_score(afr_model, X_afr_train, y_afr_train, cv=10).mean()\n",
    "print(f\"Accuracy of the AFR model: {afr_accuracy}\")"
   ]
  },
  {
   "cell_type": "code",
   "execution_count": 18,
   "metadata": {},
   "outputs": [
    {
     "name": "stdout",
     "output_type": "stream",
     "text": [
      "Accuracy of the EUR model: 1.0\n"
     ]
    }
   ],
   "source": [
    "eur_accuracy = cross_val_score(eur_model, X_eur_train, y_eur_train, cv=10).mean()\n",
    "print(f\"Accuracy of the EUR model: {eur_accuracy}\")"
   ]
  },
  {
   "cell_type": "code",
   "execution_count": 19,
   "metadata": {},
   "outputs": [
    {
     "name": "stdout",
     "output_type": "stream",
     "text": [
      "Accuracy of the SAS/EAS model: 0.9470411392405064\n"
     ]
    }
   ],
   "source": [
    "sas_eas_accuracy = cross_val_score(sas_eas_model, X_sas_eas_train, y_sas_eas_train, cv=10).mean()\n",
    "print(f\"Accuracy of the SAS/EAS model: {sas_eas_accuracy}\")"
   ]
  },
  {
   "cell_type": "code",
   "execution_count": null,
   "metadata": {},
   "outputs": [],
   "source": []
  }
 ],
 "metadata": {
  "interpreter": {
   "hash": "6e9308924db3450c828d689c970f8922fbaf92d5fecac9cb4c2acf46e71fd27c"
  },
  "kernelspec": {
   "display_name": "Python 3.8.10 ('amphora-env': venv)",
   "language": "python",
   "name": "python3"
  },
  "language_info": {
   "codemirror_mode": {
    "name": "ipython",
    "version": 3
   },
   "file_extension": ".py",
   "mimetype": "text/x-python",
   "name": "python",
   "nbconvert_exporter": "python",
   "pygments_lexer": "ipython3",
   "version": "3.8.10"
  },
  "orig_nbformat": 4
 },
 "nbformat": 4,
 "nbformat_minor": 2
}
